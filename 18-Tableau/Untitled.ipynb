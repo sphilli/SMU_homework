{
 "cells": [
  {
   "cell_type": "code",
   "execution_count": null,
   "id": "a9ba712f",
   "metadata": {},
   "outputs": [],
   "source": [
    "#Dependencies and Setup\n",
    "import pandas as pd\n",
    "\n",
    "# Specify the path to your Excel file\n",
    "file_path = 'Resources/cleaned_df.xlsx'\n",
    "\n",
    "# Read the Excel file into a Pandas DataFrame\n",
    "df = pd.read_excel(file_path)\n",
    "\n",
    "# Display the DataFrame\n",
    "print(df)"
   ]
  },
  {
   "cell_type": "code",
   "execution_count": null,
   "id": "bddc79d7",
   "metadata": {},
   "outputs": [],
   "source": [
    "df.head()"
   ]
  },
  {
   "cell_type": "code",
   "execution_count": null,
   "id": "b8f8b816",
   "metadata": {},
   "outputs": [],
   "source": [
    "df.info()"
   ]
  },
  {
   "cell_type": "code",
   "execution_count": null,
   "id": "9456e143",
   "metadata": {},
   "outputs": [],
   "source": [
    "# Drop rows with null values\n",
    "cleaned_df = df.dropna()"
   ]
  },
  {
   "cell_type": "code",
   "execution_count": null,
   "id": "cd74f215",
   "metadata": {},
   "outputs": [],
   "source": [
    "cleaned_df.info()"
   ]
  },
  {
   "cell_type": "code",
   "execution_count": null,
   "id": "9f16c0bf",
   "metadata": {},
   "outputs": [],
   "source": [
    "column_names = cleaned_df.columns\n",
    "print(\"Column Names:\")\n",
    "for col in column_names:\n",
    "    print(col)"
   ]
  },
  {
   "cell_type": "code",
   "execution_count": null,
   "id": "28441fe4",
   "metadata": {},
   "outputs": [],
   "source": [
    "# Rearranging the Columns\n",
    "df2 = cleaned_df[[\"ride_id\",\n",
    "                                       \"rideable_type\",\n",
    "                                       \"member_casual\",\n",
    "                                       \"start_station_id\",\n",
    "                                       \"start_station_name\",\n",
    "                                       \"start_lat\",\n",
    "                                       \"start_lng\",\n",
    "                                       \"end_station_name\",\n",
    "                                       \"end_lat\",\n",
    "                                       \"end_lng\",\n",
    "                                       \"started_at\",\n",
    "                                       \"ended_at\"\n",
    "                                      ]]"
   ]
  },
  {
   "cell_type": "code",
   "execution_count": null,
   "id": "210bfe03",
   "metadata": {},
   "outputs": [],
   "source": [
    "df2.head()"
   ]
  },
  {
   "cell_type": "code",
   "execution_count": null,
   "id": "2a8a3548",
   "metadata": {},
   "outputs": [],
   "source": [
    "# Outputting files to csv in Outputs folder\n",
    "\n"
   ]
  },
  {
   "cell_type": "code",
   "execution_count": null,
   "id": "77dd5ab0",
   "metadata": {},
   "outputs": [],
   "source": []
  }
 ],
 "metadata": {
  "kernelspec": {
   "display_name": "Python 3 (ipykernel)",
   "language": "python",
   "name": "python3"
  },
  "language_info": {
   "codemirror_mode": {
    "name": "ipython",
    "version": 3
   },
   "file_extension": ".py",
   "mimetype": "text/x-python",
   "name": "python",
   "nbconvert_exporter": "python",
   "pygments_lexer": "ipython3",
   "version": "3.11.5"
  }
 },
 "nbformat": 4,
 "nbformat_minor": 5
}
